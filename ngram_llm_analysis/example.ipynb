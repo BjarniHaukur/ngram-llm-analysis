{
 "cells": [
  {
   "cell_type": "code",
   "execution_count": 1,
   "metadata": {},
   "outputs": [],
   "source": [
    "%load_ext autoreload\n",
    "%autoreload 2\n"
   ]
  },
  {
   "cell_type": "code",
   "execution_count": 69,
   "metadata": {},
   "outputs": [],
   "source": [
    "with open(\"../data/small_train.txt\", \"r\") as f:\n",
    "    f.readline() # the first line is just \"text\"\n",
    "    data = f.read()\n",
    "    \n",
    "# first 10000 words\n",
    "data = \" \".join(data.split()[:10000])\n",
    "    \n",
    "data = data.lower()\n",
    "data = data.replace(\".\", \"\")\n",
    "data = data.replace(\",\", \"\")\n",
    "data = data.replace(\"!\", \"\")\n",
    "data = data.replace(\"?\", \"\")\n",
    "data = data.replace(\"'\", \"\")\n",
    "data = data.replace(\"\\\"\", \"\")\n",
    "\n",
    "word_to_ids = {word: i for i, word in enumerate(set(data.split()))}\n",
    "ids_to_word = {i: word for word, i in word_to_ids.items()}"
   ]
  },
  {
   "cell_type": "code",
   "execution_count": 70,
   "metadata": {},
   "outputs": [],
   "source": [
    "tokenized_data = [word_to_ids[word] for word in data.split()]\n",
    "untokenized_data = data.split()"
   ]
  },
  {
   "cell_type": "code",
   "execution_count": 72,
   "metadata": {},
   "outputs": [],
   "source": [
    "from utils import NGramTrie\n",
    "\n",
    "trie = NGramTrie.fit(tokenized_data, ngram_max_length=3)"
   ]
  },
  {
   "cell_type": "code",
   "execution_count": 75,
   "metadata": {},
   "outputs": [
    {
     "data": {
      "text/plain": [
       "(56, 56)"
      ]
     },
     "execution_count": 75,
     "metadata": {},
     "output_type": "execute_result"
    }
   ],
   "source": [
    "trie.search([word_to_ids[word] for word in \"one day\".split()]), \" \".join(untokenized_data).count(\"one day\")"
   ]
  },
  {
   "cell_type": "code",
   "execution_count": 76,
   "metadata": {},
   "outputs": [
    {
     "data": {
      "text/plain": [
       "(11, 11)"
      ]
     },
     "execution_count": 76,
     "metadata": {},
     "output_type": "execute_result"
    }
   ],
   "source": [
    "trie.search([word_to_ids[word] for word in \"one day a\".split()]), \" \".join(untokenized_data).count(\"one day a\")"
   ]
  },
  {
   "cell_type": "code",
   "execution_count": 78,
   "metadata": {},
   "outputs": [
    {
     "data": {
      "text/plain": [
       "(56, 11)"
      ]
     },
     "execution_count": 78,
     "metadata": {},
     "output_type": "execute_result"
    }
   ],
   "source": [
    "trie.search([word_to_ids[word] for word in \"one day a\".split()], \"++*\"), \" \".join(untokenized_data).count(\"one day a\")"
   ]
  }
 ],
 "metadata": {
  "kernelspec": {
   "display_name": ".venv",
   "language": "python",
   "name": "python3"
  },
  "language_info": {
   "codemirror_mode": {
    "name": "ipython",
    "version": 3
   },
   "file_extension": ".py",
   "mimetype": "text/x-python",
   "name": "python",
   "nbconvert_exporter": "python",
   "pygments_lexer": "ipython3",
   "version": "3.12.5"
  }
 },
 "nbformat": 4,
 "nbformat_minor": 2
}
