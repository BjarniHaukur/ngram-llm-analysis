{
 "cells": [
  {
   "cell_type": "code",
   "execution_count": 1,
   "metadata": {},
   "outputs": [],
   "source": [
    "%load_ext autoreload\n",
    "%autoreload 2\n"
   ]
  },
  {
   "cell_type": "code",
   "execution_count": 18,
   "metadata": {},
   "outputs": [
    {
     "name": "stdout",
     "output_type": "stream",
     "text": [
      "\"One day, a little girl named Lily found a needle in her\n",
      "[5, 255, 189, 15, 68, 234, 272, 325, 185, 398, 68, 3475, 127, 153]\n",
      "['\"', 'One', 'day', ',', 'a', 'little', 'girl', 'named', 'Lily', 'found', 'a', 'needle', 'in', 'her']\n"
     ]
    }
   ],
   "source": [
    "from utils.tokenizer import load_tokenizer\n",
    "\n",
    "tok = load_tokenizer(\"tokenizer\")\n",
    "\n",
    "with open(\"../data/small_train.txt\", \"r\") as f:\n",
    "    f.readline() # the first line is just \"text\"\n",
    "    data = f.read()\n",
    "    \n",
    "\n",
    "first_line = data.split(\"\\n\")[0][:56]\n",
    "first_tokens = tok.encode(first_line).ids\n",
    "\n",
    "print(first_line)\n",
    "print(first_tokens)\n",
    "print([tok.id_to_token(i) for i in first_tokens])\n"
   ]
  },
  {
   "cell_type": "code",
   "execution_count": 69,
   "metadata": {},
   "outputs": [],
   "source": [
    "with open(\"../data/small_train.txt\", \"r\") as f:\n",
    "    f.readline() # the first line is just \"text\"\n",
    "    data = f.read()\n",
    "    \n",
    "# first 10000 words\n",
    "data = \" \".join(data.split()[:10000])\n",
    "    \n",
    "data = data.lower()\n",
    "data = data.replace(\".\", \"\")\n",
    "data = data.replace(\",\", \"\")\n",
    "data = data.replace(\"!\", \"\")\n",
    "data = data.replace(\"?\", \"\")\n",
    "data = data.replace(\"'\", \"\")\n",
    "data = data.replace(\"\\\"\", \"\")\n",
    "\n",
    "word_to_ids = {word: i for i, word in enumerate(set(data.split()))}\n",
    "ids_to_word = {i: word for word, i in word_to_ids.items()}"
   ]
  },
  {
   "cell_type": "code",
   "execution_count": 70,
   "metadata": {},
   "outputs": [],
   "source": [
    "tokenized_data = [word_to_ids[word] for word in data.split()]"
   ]
  },
  {
   "cell_type": "code",
   "execution_count": 72,
   "metadata": {},
   "outputs": [],
   "source": [
    "from utils import NGramTrie\n",
    "\n",
    "trie = NGramTrie.fit(tokenized_data, ngram_max_length=3)"
   ]
  },
  {
   "cell_type": "code",
   "execution_count": 96,
   "metadata": {},
   "outputs": [
    {
     "data": {
      "text/plain": [
       "(56, 56)"
      ]
     },
     "execution_count": 96,
     "metadata": {},
     "output_type": "execute_result"
    }
   ],
   "source": [
    "trie.search([word_to_ids[word] for word in \"one day\".split()]), data.count(\"one day\")"
   ]
  },
  {
   "cell_type": "code",
   "execution_count": 97,
   "metadata": {},
   "outputs": [
    {
     "data": {
      "text/plain": [
       "(11, 11)"
      ]
     },
     "execution_count": 97,
     "metadata": {},
     "output_type": "execute_result"
    }
   ],
   "source": [
    "trie.search([word_to_ids[word] for word in \"one day a\".split()]), data.count(\"one day a\")"
   ]
  },
  {
   "cell_type": "code",
   "execution_count": 98,
   "metadata": {},
   "outputs": [
    {
     "data": {
      "text/plain": [
       "(56, 11)"
      ]
     },
     "execution_count": 98,
     "metadata": {},
     "output_type": "execute_result"
    }
   ],
   "source": [
    "trie.search([word_to_ids[word] for word in \"one day a\".split()], \"++*\"), data.count(\"one day a\")"
   ]
  },
  {
   "cell_type": "code",
   "execution_count": 101,
   "metadata": {},
   "outputs": [
    {
     "data": {
      "text/plain": [
       "[('a', 11),\n",
       " ('beep', 1),\n",
       " ('the', 7),\n",
       " ('while', 1),\n",
       " ('tim', 6),\n",
       " ('max', 1),\n",
       " ('when', 2),\n",
       " ('timmy', 1),\n",
       " ('his', 2),\n",
       " ('sue', 1),\n",
       " ('she', 8),\n",
       " ('he', 4),\n",
       " ('it', 1),\n",
       " ('zigzag', 1),\n",
       " ('they', 1),\n",
       " ('her', 1),\n",
       " ('tims', 1),\n",
       " ('joe', 1),\n",
       " ('mia', 1),\n",
       " ('lucy', 1),\n",
       " ('charlies', 1),\n",
       " ('sam', 1),\n",
       " ('bill', 1)]"
      ]
     },
     "execution_count": 101,
     "metadata": {},
     "output_type": "execute_result"
    }
   ],
   "source": [
    "node = trie.find_all_nodes([word_to_ids[word] for word in \"one day\".split()])\n",
    "[(ids_to_word[token], node.count) for token, node in node[0].children.items()]"
   ]
  },
  {
   "cell_type": "code",
   "execution_count": 106,
   "metadata": {},
   "outputs": [
    {
     "data": {
      "text/plain": [
       "(1, 8, 8)"
      ]
     },
     "execution_count": 106,
     "metadata": {},
     "output_type": "execute_result"
    }
   ],
   "source": [
    "data.count(\"one day while\"), data.count(\"one day tim\"), data.count(\"one day she\")  # why is tim wrong?"
   ]
  }
 ],
 "metadata": {
  "kernelspec": {
   "display_name": ".venv",
   "language": "python",
   "name": "python3"
  },
  "language_info": {
   "codemirror_mode": {
    "name": "ipython",
    "version": 3
   },
   "file_extension": ".py",
   "mimetype": "text/x-python",
   "name": "python",
   "nbconvert_exporter": "python",
   "pygments_lexer": "ipython3",
   "version": "3.12.7"
  }
 },
 "nbformat": 4,
 "nbformat_minor": 2
}
